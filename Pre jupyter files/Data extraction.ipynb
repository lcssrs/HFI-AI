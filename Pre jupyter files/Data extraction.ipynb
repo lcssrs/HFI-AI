{
 "cells": [
  {
   "cell_type": "code",
   "execution_count": 1,
   "id": "b17e1ac3-a200-4fbe-8900-f78f0dbaf1a7",
   "metadata": {},
   "outputs": [],
   "source": [
    "from bs4 import BeautifulSoup\n",
    "from urllib.request import urlopen\n",
    "import requests\n",
    "import re\n",
    "import pandas as pd"
   ]
  },
  {
   "cell_type": "markdown",
   "id": "33c3f42a-48dd-48db-83d6-330795a5765b",
   "metadata": {},
   "source": [
    "# README\n",
    "\n",
    "1st Cell - We establish the websites where each piece of information will be scrapped from. Then we start by scrapping the dates of each ECB meeting "
   ]
  },
  {
   "cell_type": "code",
   "execution_count": null,
   "id": "79436618-1ea5-4dbe-b18c-7232ad5dcd0a",
   "metadata": {},
   "outputs": [],
   "source": []
  },
  {
   "cell_type": "code",
   "execution_count": 2,
   "id": "e5670933-25b7-4791-a084-fd33443084d3",
   "metadata": {
    "scrolled": true
   },
   "outputs": [
    {
     "name": "stdout",
     "output_type": "stream",
     "text": [
      "42334-0\n",
      "41590-42334\n",
      "42274-41590\n",
      "43128-42274\n",
      "43812-43128\n",
      "48355-43812\n",
      "48355-48355\n"
     ]
    }
   ],
   "source": [
    "#We have to use selenium library because ECB's website is of the type scroll and load, therefore the code is not all there\n",
    "# in the simple html version, in this code we open the website and scroll down until we get the whole source code\n",
    "\n",
    "from selenium import webdriver\n",
    "from selenium.webdriver.chrome.service import Service\n",
    "from webdriver_manager.chrome import ChromeDriverManager\n",
    "import time\n",
    "\n",
    "# Target URL\n",
    "url = \"https://www.ecb.europa.eu/press/govcdec/mopo/html/index.en.html\"\n",
    "\n",
    "# Configure Chrome driver \n",
    "chrome_options = webdriver.ChromeOptions()\n",
    "chrome_options.add_argument(\"--headless\")  # Run Chrome in headless mode\n",
    "driver = webdriver.Chrome(service=Service(ChromeDriverManager().install()), options=chrome_options)\n",
    "\n",
    "# Open the URL\n",
    "driver.get(url)\n",
    "\n",
    "driver.maximize_window()\n",
    "\n",
    "driver.get(url)\n",
    "\n",
    "last_height = 0\n",
    "\n",
    "while True:\n",
    "    driver.execute_script('window.scrollBy(0, 5000)')\n",
    "    time.sleep(2)\n",
    "\n",
    "    new_height = driver.execute_script(\"return document.body.scrollHeight\")\n",
    "    print(str(new_height)+\"-\"+str(last_height))\n",
    "\n",
    "    if(new_height == last_height):\n",
    "        break\n",
    "\n",
    "    else:\n",
    "        last_height = new_height\n",
    "\n",
    "# Get the complete HTML content\n",
    "html_content = driver.page_source\n",
    "\n",
    "soup = BeautifulSoup(html_content, \"html.parser\")\n",
    "\n",
    "\n",
    "# Quit the browser\n",
    "driver.quit()"
   ]
  },
  {
   "cell_type": "code",
   "execution_count": null,
   "id": "69544263-5ace-46fc-ab36-2bc88403b823",
   "metadata": {},
   "outputs": [],
   "source": []
  },
  {
   "cell_type": "code",
   "execution_count": null,
   "id": "1b297fba",
   "metadata": {
    "scrolled": true
   },
   "outputs": [],
   "source": [
    "# Regular expression pattern to match the desired links\n",
    "pattern = re.compile(r'^/press/pr/date/\\d{4}/html/.*\\.en\\.html$')\n",
    "\n",
    "# Set to keep track of unique links\n",
    "unique_links = set()\n",
    "# List to store the first occurrences\n",
    "first_occurrences = []\n",
    "\n",
    "# Find all 'a' tags with 'href' attribute\n",
    "for a_tag in soup.find_all('a', href=True):\n",
    "    href = a_tag['href']\n",
    "    # Check if the link matches the pattern\n",
    "    if pattern.match(href) and href not in unique_links:\n",
    "        unique_links.add(href)\n",
    "        first_occurrences.append(href)\n",
    "\n",
    "# Print the list of first occurrences\n",
    "print(first_occurrences)"
   ]
  },
  {
   "cell_type": "code",
   "execution_count": null,
   "id": "a09e8648",
   "metadata": {},
   "outputs": [],
   "source": [
    "#Preallocating the list\n",
    "text_strings = [None]*len(first_occurrences)\n",
    "\n",
    "#Loop that fills the list with the text from each of the ECB's meeting\n",
    "for i in range(len(first_occurrences)):\n",
    "    test = first_occurrences[i]\n",
    "\n",
    "    link = 'https://www.ecb.europa.eu' + test\n",
    "\n",
    "    response = requests.get(link)\n",
    "    html = response.text\n",
    "\n",
    "    #Creating Beautiful Soup object\n",
    "    soup = BeautifulSoup(html, 'html.parser')\n",
    "\n",
    "    page_text = soup.body.main.get_text(separator=' ', strip=True)\n",
    "\n",
    "    text_strings[i]=page_text"
   ]
  },
  {
   "cell_type": "code",
   "execution_count": null,
   "id": "36c3122e",
   "metadata": {},
   "outputs": [],
   "source": []
  },
  {
   "cell_type": "code",
   "execution_count": null,
   "id": "09b5ec34",
   "metadata": {
    "scrolled": true
   },
   "outputs": [],
   "source": [
    "# Regular expression to match the pattern and capture the date and the rest of the text\n",
    "pattern = re.compile(r\"(PRESS RELEASE Monetary policy decisions \\d{1,2} \\w+ \\d{4})(.*?)(CONTACT.*)\", re.DOTALL)\n",
    "\n",
    "# Dictionary to map month names to month numbers\n",
    "month_mapping = {\n",
    "    \"January\": \"01\", \"February\": \"02\", \"March\": \"03\", \"April\": \"04\",\n",
    "    \"May\": \"05\", \"June\": \"06\", \"July\": \"07\", \"August\": \"08\",\n",
    "    \"September\": \"09\", \"October\": \"10\", \"November\": \"11\", \"December\": \"12\"\n",
    "}\n",
    "\n",
    "def convert_date_format(date_str):\n",
    "    # Match the date pattern within the extracted date part\n",
    "    date_match = re.search(r\"(\\d{1,2}) (\\w+) (\\d{4})\", date_str)\n",
    "    if date_match:\n",
    "        day = date_match.group(1).zfill(2)\n",
    "        month = month_mapping[date_match.group(2)]\n",
    "        year = date_match.group(3)\n",
    "        return f\"{day}/{month}/{year}\"\n",
    "    return None\n",
    "\n",
    "# Lists to store formatted dates and remaining texts\n",
    "dates = []\n",
    "texts_after_date = []\n",
    "\n",
    "# Extract dates and remaining texts\n",
    "for text in text_strings:\n",
    "    match = pattern.match(text)\n",
    "    if match:\n",
    "        date_str = match.group(1)\n",
    "        remaining_text = match.group(2).strip()\n",
    "        formatted_date = convert_date_format(date_str)\n",
    "        dates.append(formatted_date)\n",
    "        texts_after_date.append(remaining_text)\n",
    "\n",
    "# Create a DataFrame\n",
    "df = pd.DataFrame({\n",
    "    'Date': dates,\n",
    "    'Text': texts_after_date\n",
    "})\n",
    "\n",
    "# Print the DataFrame\n",
    "print(df)"
   ]
  },
  {
   "cell_type": "code",
   "execution_count": null,
   "id": "a3de3244",
   "metadata": {},
   "outputs": [],
   "source": [
    "#Saving as a csv file\n",
    "df.to_csv('press_release.csv', encoding='utf-8')"
   ]
  },
  {
   "cell_type": "markdown",
   "id": "14a93a1a-11d6-427b-99bb-e4cb8a7b2abb",
   "metadata": {},
   "source": [
    "#Press release\n",
    "https://www.ecb.europa.eu/press/govcdec/mopo/html/index.en.html\n",
    "\n",
    "#Press conference\n",
    "https://www.ecb.europa.eu/press/press_conference/monetary-policy-statement/html/index.en.html"
   ]
  },
  {
   "cell_type": "markdown",
   "id": "6deb245b-cbd1-4b54-b025-abf6d353b9c7",
   "metadata": {},
   "source": [
    "# things to remember\n",
    "\n",
    "1 - Introduce a dummy variable for each central bank president"
   ]
  },
  {
   "cell_type": "code",
   "execution_count": null,
   "id": "18e6b06c",
   "metadata": {},
   "outputs": [],
   "source": [
    "# From now on open a new section regular expression or text analysis"
   ]
  }
 ],
 "metadata": {
  "kernelspec": {
   "display_name": "Python 3 (ipykernel)",
   "language": "python",
   "name": "python3"
  },
  "language_info": {
   "codemirror_mode": {
    "name": "ipython",
    "version": 3
   },
   "file_extension": ".py",
   "mimetype": "text/x-python",
   "name": "python",
   "nbconvert_exporter": "python",
   "pygments_lexer": "ipython3",
   "version": "3.12.4"
  }
 },
 "nbformat": 4,
 "nbformat_minor": 5
}
