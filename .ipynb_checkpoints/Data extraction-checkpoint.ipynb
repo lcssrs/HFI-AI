{
 "cells": [
  {
   "cell_type": "code",
   "execution_count": 2,
   "id": "b17e1ac3-a200-4fbe-8900-f78f0dbaf1a7",
   "metadata": {},
   "outputs": [],
   "source": [
    "from bs4 import BeautifulSoup\n",
    "from urllib.request import urlopen"
   ]
  },
  {
   "cell_type": "markdown",
   "id": "33c3f42a-48dd-48db-83d6-330795a5765b",
   "metadata": {},
   "source": [
    "# README\n",
    "\n",
    "1st Cell - We establish the websites where each piece of information will be scrapped from. Then we start by scrapping the dates of each ECB meeting "
   ]
  },
  {
   "cell_type": "code",
   "execution_count": null,
   "id": "53df2103-3784-4415-ae5a-a3f524546a25",
   "metadata": {},
   "outputs": [],
   "source": [
    "#Scrapping dates from ECB's website\n",
    "\n",
    "url = \"https://www.ecb.europa.eu/pub/projections/html/all-releases.en.html\"\n",
    "page = urlopen(url)\n",
    "html = page.read().decode(\"utf-8\")\n",
    "soup = BeautifulSoup(html, \"html.parser\")\n",
    "\n",
    "#Creating dataframe\n",
    "dat = soup.find_all(\"dt\")\n",
    "dats=[0 for i in range((len(dat)))]\n",
    "for i in range(0,len(dat)): \n",
    "    dats[i]=dat[i][\"isodate\"]\n",
    "\n",
    "#removing duplicates, noisy data and reseting index\n",
    "dates = pd.DataFrame(dats, columns=[\"Dates\"]).drop_duplicates()\n",
    "dates = dates.drop(labels=[6,11,16,21,26,31,36,38,41,46,51,56,61,64,67], axis=0).reset_index()\n",
    "dates = dates.drop('index', axis=1)"
   ]
  },
  {
   "cell_type": "code",
   "execution_count": null,
   "id": "a2a97e6d-948d-41ff-bd41-e47ab99dc02e",
   "metadata": {},
   "outputs": [],
   "source": [
    "\n",
    "#Press release\n",
    "https://www.ecb.europa.eu/press/govcdec/mopo/html/index.en.html\n",
    "\n",
    "#Press conference\n",
    "https://www.ecb.europa.eu/press/press_conference/monetary-policy-statement/html/index.en.html"
   ]
  },
  {
   "cell_type": "markdown",
   "id": "6deb245b-cbd1-4b54-b025-abf6d353b9c7",
   "metadata": {},
   "source": [
    "# things to remember\n",
    "\n",
    "1 - Introduce a dummy variable for each central bank president"
   ]
  }
 ],
 "metadata": {
  "kernelspec": {
   "display_name": "Python 3 (ipykernel)",
   "language": "python",
   "name": "python3"
  },
  "language_info": {
   "codemirror_mode": {
    "name": "ipython",
    "version": 3
   },
   "file_extension": ".py",
   "mimetype": "text/x-python",
   "name": "python",
   "nbconvert_exporter": "python",
   "pygments_lexer": "ipython3",
   "version": "3.11.7"
  }
 },
 "nbformat": 4,
 "nbformat_minor": 5
}
